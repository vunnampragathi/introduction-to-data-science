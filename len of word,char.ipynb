{
 "cells": [
  {
   "cell_type": "code",
   "execution_count": 1,
   "id": "5ca9d746",
   "metadata": {},
   "outputs": [
    {
     "name": "stdout",
     "output_type": "stream",
     "text": [
      "my name is pragathi\n"
     ]
    },
    {
     "data": {
      "text/plain": [
       "'no.of words:4,no.of characters:19'"
      ]
     },
     "execution_count": 1,
     "metadata": {},
     "output_type": "execute_result"
    }
   ],
   "source": [
    "x=input()\n",
    "words=x.split()\n",
    "def m():\n",
    "    y=len(words)\n",
    "    z=len(x)\n",
    "    return\"no.of words:\"+str(y)+\",no.of characters:\"+str(z)\n",
    "m()"
   ]
  },
  {
   "cell_type": "markdown",
   "id": "ed0b11cf",
   "metadata": {},
   "source": [
    "# refernce:\n",
    "https://www.kite.com/python/answers/how-to-count-the-number-of-words-in-a-string-in-python\n",
    "\n",
    "https://www.w3schools.com/python/python_functions.asp"
   ]
  }
 ],
 "metadata": {
  "kernelspec": {
   "display_name": "Python 3 (ipykernel)",
   "language": "python",
   "name": "python3"
  },
  "language_info": {
   "codemirror_mode": {
    "name": "ipython",
    "version": 3
   },
   "file_extension": ".py",
   "mimetype": "text/x-python",
   "name": "python",
   "nbconvert_exporter": "python",
   "pygments_lexer": "ipython3",
   "version": "3.9.7"
  }
 },
 "nbformat": 4,
 "nbformat_minor": 5
}
