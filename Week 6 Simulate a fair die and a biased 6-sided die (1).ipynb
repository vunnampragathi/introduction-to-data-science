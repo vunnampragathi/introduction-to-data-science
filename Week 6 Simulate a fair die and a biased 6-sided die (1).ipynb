{
 "cells": [
  {
   "cell_type": "markdown",
   "id": "509f41d9",
   "metadata": {},
   "source": [
    "Week 6: Simulate a fair die and a biased 6-sided die\n",
    "\n",
    "\n",
    "Simulate a fair die and a biased 6-sided die. The biased die has probabilities {0.15, 0.15, 0.15, 0.15, 0.15, 0.25}. Create a visualization that compares outcomes of multiple rolls of a fair die and this biased die. You can use a single visualization or multiple visualizations to demonstrate the difference in outcomes for the dice. The user of your notebook should be able to alter the number of simulations as an argument to a function.​"
   ]
  },
  {
   "cell_type": "code",
   "execution_count": 23,
   "id": "554c4a86",
   "metadata": {},
   "outputs": [],
   "source": [
    "import random           #importing required libraries\n",
    "import seaborn as s\n",
    "import matplotlib.pyplot as plot"
   ]
  },
  {
   "cell_type": "code",
   "execution_count": 24,
   "id": "42bc052f",
   "metadata": {},
   "outputs": [],
   "source": [
    "def fairdie(rolls):  #defining fair die\n",
    "    fair_result=[]\n",
    "    for x in range(rolls):\n",
    "        fair_result.append(random.randint(1,6))\n",
    "    return fair_result"
   ]
  },
  {
   "cell_type": "code",
   "execution_count": 25,
   "id": "8677b0bc",
   "metadata": {},
   "outputs": [],
   "source": [
    "def biaseddie(rolls):       #defining biased die\n",
    "    biased_result=[]\n",
    "    for y in range(rolls):\n",
    "        i = random.randint(1,100)\n",
    "        if (1<=i<=15):\n",
    "            biased_result.append(1)\n",
    "        elif (16<=i<=30):\n",
    "            biased_result.append(2)\n",
    "        elif (31<=i<=45):\n",
    "            biased_result.append(3)\n",
    "        elif (46<=i<=60):\n",
    "            biased_result.append(4)\n",
    "        elif (61<=i<=75):\n",
    "            biased_result.append(5)\n",
    "        else:\n",
    "            biased_result.append(6)\n",
    "    return biased_result                   "
   ]
  },
  {
   "cell_type": "code",
   "execution_count": 26,
   "id": "797450af",
   "metadata": {},
   "outputs": [
    {
     "name": "stderr",
     "output_type": "stream",
     "text": [
      "C:\\Users\\pragathi\\anaconda3\\lib\\site-packages\\seaborn\\_decorators.py:36: FutureWarning: Pass the following variable as a keyword arg: x. From version 0.12, the only valid positional argument will be `data`, and passing other arguments without an explicit keyword will result in an error or misinterpretation.\n",
      "  warnings.warn(\n"
     ]
    },
    {
     "data": {
      "image/png": "[encoded data removed]",
      "text/plain": [
       "<Figure size 432x288 with 1 Axes>"
      ]
     },
     "metadata": {
      "needs_background": "light"
     },
     "output_type": "display_data"
    },
    {
     "name": "stderr",
     "output_type": "stream",
     "text": [
      "C:\\Users\\pragathi\\anaconda3\\lib\\site-packages\\seaborn\\_decorators.py:36: FutureWarning: Pass the following variable as a keyword arg: x. From version 0.12, the only valid positional argument will be `data`, and passing other arguments without an explicit keyword will result in an error or misinterpretation.\n",
      "  warnings.warn(\n"
     ]
    },
    {
     "data": {
      "image/png": "[encoded data removed]",
      "text/plain": [
       "<Figure size 432x288 with 1 Axes>"
      ]
     },
     "metadata": {
      "needs_background": "light"
     },
     "output_type": "display_data"
    }
   ],
   "source": [
    "s.countplot(fairdie(500))            #vizualization of fairdie 500 rolls\n",
    "plot.title(\"fair die outcomes\")\n",
    "plot.xlabel(\"die value\")\n",
    "plot.show()\n",
    "s.countplot(biaseddie(500))           #vizualization of biased die for 500 rolls\n",
    "plot.title(\"biased die outcomes\")\n",
    "plot.xlabel(\"die value\")\n",
    "plot.show()"
   ]
  },
  {
   "cell_type": "markdown",
   "id": "15640603",
   "metadata": {},
   "source": [
    "#reference:\n",
    "https://seaborn.pydata.org/generated/seaborn.countplot.html\n",
    "\n",
    "https://medium.com/future-vision/simulating-probability-events-in-python-5dd29e34e381"
   ]
  }
 ],
 "metadata": {
  "kernelspec": {
   "display_name": "Python 3 (ipykernel)",
   "language": "python",
   "name": "python3"
  },
  "language_info": {
   "codemirror_mode": {
    "name": "ipython",
    "version": 3
   },
   "file_extension": ".py",
   "mimetype": "text/x-python",
   "name": "python",
   "nbconvert_exporter": "python",
   "pygments_lexer": "ipython3",
   "version": "3.9.7"
  }
 },
 "nbformat": 4,
 "nbformat_minor": 5
}
