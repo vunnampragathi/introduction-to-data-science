{
 "cells": [
  {
   "cell_type": "code",
   "execution_count": 2,
   "id": "d5013a98",
   "metadata": {},
   "outputs": [
    {
     "name": "stdout",
     "output_type": "stream",
     "text": [
      "enter list inputs =\n",
      "1 2 3 4 5 6 \n",
      "left shifted output=\n"
     ]
    },
    {
     "data": {
      "text/plain": [
       "' 2 3 4 5 6 1'"
      ]
     },
     "execution_count": 2,
     "metadata": {},
     "output_type": "execute_result"
    }
   ],
   "source": [
    "def list():\n",
    "    print(\"enter list inputs =\")\n",
    "    list=input()\n",
    "    print(\"left shifted output=\")\n",
    "    return list[1:]+list[:1]\n",
    "list()"
   ]
  },
  {
   "cell_type": "markdown",
   "id": "c9d68d6a",
   "metadata": {},
   "source": [
    "# reference:\n",
    "https://stackoverflow.com/questions/2150108/efficient-way-to-rotate-a-list-in-python\n"
   ]
  }
 ],
 "metadata": {
  "kernelspec": {
   "display_name": "Python 3 (ipykernel)",
   "language": "python",
   "name": "python3"
  },
  "language_info": {
   "codemirror_mode": {
    "name": "ipython",
    "version": 3
   },
   "file_extension": ".py",
   "mimetype": "text/x-python",
   "name": "python",
   "nbconvert_exporter": "python",
   "pygments_lexer": "ipython3",
   "version": "3.9.7"
  }
 },
 "nbformat": 4,
 "nbformat_minor": 5
}
